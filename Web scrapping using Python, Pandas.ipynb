{
 "cells": [
  {
   "cell_type": "markdown",
   "id": "decd0531-c278-44e4-a828-54dbf7d5cce4",
   "metadata": {},
   "source": [
    "# Scrapping Data from Website using BeautifulSoup + Pandas"
   ]
  },
  {
   "cell_type": "markdown",
   "id": "c6d6db64-6f4e-4fb2-a0cd-7bbde4328f37",
   "metadata": {
    "jp-MarkdownHeadingCollapsed": true
   },
   "source": [
    "### Entire code at a galance"
   ]
  },
  {
   "cell_type": "code",
   "execution_count": null,
   "id": "8a0b42d2-ad52-4630-b942-7597025858bb",
   "metadata": {},
   "outputs": [],
   "source": [
    "\"\"\"                                      \"\"\"Entire codes al a galance\"\"\"\n",
    "from bs4 import BeautifulSoup\n",
    "import requests\n",
    "---\n",
    "url = \"https://en.wikipedia.org/wiki/List_of_largest_companies_in_the_United_States_by_revenue\"\n",
    "page = requests.get(url)\n",
    "soup = BeautifulSoup(page.text, 'html')\n",
    "soup \n",
    "---\n",
    "table = soup.find_all('table')[1]\n",
    "print(table)\n",
    "---\n",
    "world_title = table.find_all('th')\n",
    "print(world_title)\n",
    "---\n",
    "world_table_title = [title.text.strip() for title in world_title]\n",
    "print(world_table_title)\n",
    "---\n",
    "import pandas as pd\n",
    "df = pd.DataFrame(columns = world_table_title)\n",
    "df\n",
    "---\n",
    "column_data = table.find_all('tr')\n",
    "print(column_data)\n",
    "---\n",
    "for row in column_data[1:]:\n",
    "    row_data = row.find_all('td')\n",
    "    individual_row_data = [data.text.strip() for data in row_data]\n",
    "    print(individual_row_data)\n",
    "\n",
    "    length = len(df)\n",
    "    df.loc[length] = individual_row_data\n",
    "\n",
    "df\n",
    "---\n",
    "df.to_csv(r'C:\\Users\\User.SHAWONALAM\\OneDrive\\Documents\\Web scrapping using pandas, python\\largest companies in USA by revenue.csv', index=False)\n",
    "\"\"\""
   ]
  },
  {
   "cell_type": "markdown",
   "id": "b4741f8b-a1fd-4113-9fde-3a8ddc7b11c7",
   "metadata": {},
   "source": [
    "## Step by Step"
   ]
  },
  {
   "cell_type": "markdown",
   "id": "af49436d-05d2-42d7-bbbe-37a0e203e421",
   "metadata": {
    "jp-MarkdownHeadingCollapsed": true
   },
   "source": [
    "### Importing Beautiful Soup and Loading URL "
   ]
  },
  {
   "cell_type": "code",
   "execution_count": 144,
   "id": "59cde03c-04d1-4ac6-93c0-74ad36b261ed",
   "metadata": {},
   "outputs": [],
   "source": [
    "from bs4 import BeautifulSoup\n",
    "import requests"
   ]
  },
  {
   "cell_type": "code",
   "execution_count": 207,
   "id": "a043c0aa-21fa-4e14-9a05-0f5491cb4a75",
   "metadata": {},
   "outputs": [],
   "source": [
    "url = \"https://en.wikipedia.org/wiki/List_of_largest_companies_in_the_United_States_by_revenue\"\n",
    "page = requests.get(url)\n",
    "soup = BeautifulSoup(page.text, 'html')\n",
    "#soup "
   ]
  },
  {
   "cell_type": "markdown",
   "id": "ef5b7a86-0578-4479-94e9-dfcc5e7916b1",
   "metadata": {},
   "source": [
    "### Finding target table and creating list of it"
   ]
  },
  {
   "cell_type": "code",
   "execution_count": null,
   "id": "dd65f97f-bc55-4386-938f-58f294961765",
   "metadata": {},
   "outputs": [],
   "source": [
    "table = soup.find_all('table')[1]\n",
    "#print(table)"
   ]
  },
  {
   "cell_type": "code",
   "execution_count": 211,
   "id": "981ddc98-ddbd-475e-a05f-49ddf6cc5e76",
   "metadata": {},
   "outputs": [],
   "source": [
    "world_title = table.find_all('th')\n",
    "#print(world_title)"
   ]
  },
  {
   "cell_type": "code",
   "execution_count": 155,
   "id": "569b79a0-401d-4d89-a77e-2e3e08c43e14",
   "metadata": {},
   "outputs": [
    {
     "name": "stdout",
     "output_type": "stream",
     "text": [
      "['Rank', 'Name', 'Industry', 'Revenue (USD millions)', 'Revenue growth', 'Employees', 'Headquarters']\n"
     ]
    }
   ],
   "source": [
    "world_table_title = [title.text.strip() for title in world_title]\n",
    "print(world_table_title)"
   ]
  },
  {
   "cell_type": "markdown",
   "id": "3d4afdb3-d332-4323-af7c-f7b659ad542b",
   "metadata": {},
   "source": [
    "### Using Pandas to extract table Header"
   ]
  },
  {
   "cell_type": "code",
   "execution_count": 201,
   "id": "1372cf90-dcdf-433b-a687-4ceff87c9144",
   "metadata": {},
   "outputs": [
    {
     "data": {
      "text/html": [
       "<div>\n",
       "<style scoped>\n",
       "    .dataframe tbody tr th:only-of-type {\n",
       "        vertical-align: middle;\n",
       "    }\n",
       "\n",
       "    .dataframe tbody tr th {\n",
       "        vertical-align: top;\n",
       "    }\n",
       "\n",
       "    .dataframe thead th {\n",
       "        text-align: right;\n",
       "    }\n",
       "</style>\n",
       "<table border=\"1\" class=\"dataframe\">\n",
       "  <thead>\n",
       "    <tr style=\"text-align: right;\">\n",
       "      <th></th>\n",
       "      <th>Rank</th>\n",
       "      <th>Name</th>\n",
       "      <th>Industry</th>\n",
       "      <th>Revenue (USD millions)</th>\n",
       "      <th>Revenue growth</th>\n",
       "      <th>Employees</th>\n",
       "      <th>Headquarters</th>\n",
       "    </tr>\n",
       "  </thead>\n",
       "  <tbody>\n",
       "  </tbody>\n",
       "</table>\n",
       "</div>"
      ],
      "text/plain": [
       "Empty DataFrame\n",
       "Columns: [Rank, Name, Industry, Revenue (USD millions), Revenue growth, Employees, Headquarters]\n",
       "Index: []"
      ]
     },
     "execution_count": 201,
     "metadata": {},
     "output_type": "execute_result"
    }
   ],
   "source": [
    "import pandas as pd\n",
    "df = pd.DataFrame(columns = world_table_title)\n",
    "df"
   ]
  },
  {
   "cell_type": "markdown",
   "id": "18c2cda7-7587-41d7-88ab-05cc269622eb",
   "metadata": {},
   "source": [
    "### Extracting data into the table using Pandas df"
   ]
  },
  {
   "cell_type": "code",
   "execution_count": 203,
   "id": "d3e00889-4184-4694-a056-150bde4b2195",
   "metadata": {
    "scrolled": true
   },
   "outputs": [],
   "source": [
    "column_data = table.find_all('tr')\n",
    "#print(column_data)"
   ]
  },
  {
   "cell_type": "code",
   "execution_count": 205,
   "id": "de388e28-0a93-4777-a659-490539392af1",
   "metadata": {
    "scrolled": true
   },
   "outputs": [],
   "source": [
    "for row in column_data[1:]:\n",
    "    row_data = row.find_all('td')\n",
    "    #print(row_data)\n",
    "    individual_row_data = [data.text.strip() for data in row_data]\n",
    "    #print(individual_row_data)\n",
    "\n",
    "    #length = len(df)\n",
    "    df.loc[len(df)] = individual_row_data"
   ]
  },
  {
   "cell_type": "code",
   "execution_count": 189,
   "id": "34e888c1-d780-4c7a-9c05-005c1394ef47",
   "metadata": {},
   "outputs": [
    {
     "data": {
      "text/html": [
       "<div>\n",
       "<style scoped>\n",
       "    .dataframe tbody tr th:only-of-type {\n",
       "        vertical-align: middle;\n",
       "    }\n",
       "\n",
       "    .dataframe tbody tr th {\n",
       "        vertical-align: top;\n",
       "    }\n",
       "\n",
       "    .dataframe thead th {\n",
       "        text-align: right;\n",
       "    }\n",
       "</style>\n",
       "<table border=\"1\" class=\"dataframe\">\n",
       "  <thead>\n",
       "    <tr style=\"text-align: right;\">\n",
       "      <th></th>\n",
       "      <th>Rank</th>\n",
       "      <th>Name</th>\n",
       "      <th>Industry</th>\n",
       "      <th>Revenue (USD millions)</th>\n",
       "      <th>Revenue growth</th>\n",
       "      <th>Employees</th>\n",
       "      <th>Headquarters</th>\n",
       "    </tr>\n",
       "  </thead>\n",
       "  <tbody>\n",
       "    <tr>\n",
       "      <th>0</th>\n",
       "      <td>1</td>\n",
       "      <td>Walmart</td>\n",
       "      <td>Retail</td>\n",
       "      <td>611,289</td>\n",
       "      <td>6.7%</td>\n",
       "      <td>2,100,000</td>\n",
       "      <td>Bentonville, Arkansas</td>\n",
       "    </tr>\n",
       "    <tr>\n",
       "      <th>1</th>\n",
       "      <td>2</td>\n",
       "      <td>Amazon</td>\n",
       "      <td>Retail and cloud computing</td>\n",
       "      <td>513,983</td>\n",
       "      <td>9.4%</td>\n",
       "      <td>1,540,000</td>\n",
       "      <td>Seattle, Washington</td>\n",
       "    </tr>\n",
       "    <tr>\n",
       "      <th>2</th>\n",
       "      <td>3</td>\n",
       "      <td>ExxonMobil</td>\n",
       "      <td>Petroleum industry</td>\n",
       "      <td>413,680</td>\n",
       "      <td>44.8%</td>\n",
       "      <td>62,000</td>\n",
       "      <td>Spring, Texas</td>\n",
       "    </tr>\n",
       "    <tr>\n",
       "      <th>3</th>\n",
       "      <td>4</td>\n",
       "      <td>Apple</td>\n",
       "      <td>Electronics industry</td>\n",
       "      <td>394,328</td>\n",
       "      <td>7.8%</td>\n",
       "      <td>164,000</td>\n",
       "      <td>Cupertino, California</td>\n",
       "    </tr>\n",
       "    <tr>\n",
       "      <th>4</th>\n",
       "      <td>5</td>\n",
       "      <td>UnitedHealth Group</td>\n",
       "      <td>Healthcare</td>\n",
       "      <td>324,162</td>\n",
       "      <td>12.7%</td>\n",
       "      <td>400,000</td>\n",
       "      <td>Minnetonka, Minnesota</td>\n",
       "    </tr>\n",
       "    <tr>\n",
       "      <th>...</th>\n",
       "      <td>...</td>\n",
       "      <td>...</td>\n",
       "      <td>...</td>\n",
       "      <td>...</td>\n",
       "      <td>...</td>\n",
       "      <td>...</td>\n",
       "      <td>...</td>\n",
       "    </tr>\n",
       "    <tr>\n",
       "      <th>295</th>\n",
       "      <td>96</td>\n",
       "      <td>Best Buy</td>\n",
       "      <td>Retail</td>\n",
       "      <td>46,298</td>\n",
       "      <td>10.6%</td>\n",
       "      <td>71,100</td>\n",
       "      <td>Richfield, Minnesota</td>\n",
       "    </tr>\n",
       "    <tr>\n",
       "      <th>296</th>\n",
       "      <td>97</td>\n",
       "      <td>Bristol-Myers Squibb</td>\n",
       "      <td>Pharmaceutical industry</td>\n",
       "      <td>46,159</td>\n",
       "      <td>0.5%</td>\n",
       "      <td>34,300</td>\n",
       "      <td>New York City, New York</td>\n",
       "    </tr>\n",
       "    <tr>\n",
       "      <th>297</th>\n",
       "      <td>98</td>\n",
       "      <td>United Airlines</td>\n",
       "      <td>Airline</td>\n",
       "      <td>44,955</td>\n",
       "      <td>82.5%</td>\n",
       "      <td>92,795</td>\n",
       "      <td>Chicago, Illinois</td>\n",
       "    </tr>\n",
       "    <tr>\n",
       "      <th>298</th>\n",
       "      <td>99</td>\n",
       "      <td>Thermo Fisher Scientific</td>\n",
       "      <td>Laboratory instruments</td>\n",
       "      <td>44,915</td>\n",
       "      <td>14.5%</td>\n",
       "      <td>130,000</td>\n",
       "      <td>Waltham, Massachusetts</td>\n",
       "    </tr>\n",
       "    <tr>\n",
       "      <th>299</th>\n",
       "      <td>100</td>\n",
       "      <td>Qualcomm</td>\n",
       "      <td>Technology</td>\n",
       "      <td>44,200</td>\n",
       "      <td>31.7%</td>\n",
       "      <td>51,000</td>\n",
       "      <td>San Diego, California</td>\n",
       "    </tr>\n",
       "  </tbody>\n",
       "</table>\n",
       "<p>300 rows × 7 columns</p>\n",
       "</div>"
      ],
      "text/plain": [
       "    Rank                      Name                    Industry  \\\n",
       "0      1                   Walmart                      Retail   \n",
       "1      2                    Amazon  Retail and cloud computing   \n",
       "2      3                ExxonMobil          Petroleum industry   \n",
       "3      4                     Apple        Electronics industry   \n",
       "4      5        UnitedHealth Group                  Healthcare   \n",
       "..   ...                       ...                         ...   \n",
       "295   96                  Best Buy                      Retail   \n",
       "296   97      Bristol-Myers Squibb     Pharmaceutical industry   \n",
       "297   98           United Airlines                     Airline   \n",
       "298   99  Thermo Fisher Scientific      Laboratory instruments   \n",
       "299  100                  Qualcomm                  Technology   \n",
       "\n",
       "    Revenue (USD millions) Revenue growth  Employees             Headquarters  \n",
       "0                  611,289           6.7%  2,100,000    Bentonville, Arkansas  \n",
       "1                  513,983           9.4%  1,540,000      Seattle, Washington  \n",
       "2                  413,680          44.8%     62,000            Spring, Texas  \n",
       "3                  394,328           7.8%    164,000    Cupertino, California  \n",
       "4                  324,162          12.7%    400,000    Minnetonka, Minnesota  \n",
       "..                     ...            ...        ...                      ...  \n",
       "295                 46,298          10.6%     71,100     Richfield, Minnesota  \n",
       "296                 46,159           0.5%     34,300  New York City, New York  \n",
       "297                 44,955          82.5%     92,795        Chicago, Illinois  \n",
       "298                 44,915          14.5%    130,000   Waltham, Massachusetts  \n",
       "299                 44,200          31.7%     51,000    San Diego, California  \n",
       "\n",
       "[300 rows x 7 columns]"
      ]
     },
     "execution_count": 189,
     "metadata": {},
     "output_type": "execute_result"
    }
   ],
   "source": [
    "df"
   ]
  },
  {
   "cell_type": "markdown",
   "id": "8243a84f-8f1b-4b8b-93ab-48942f9d92fb",
   "metadata": {},
   "source": [
    "### Saving data frame into a CSV file"
   ]
  },
  {
   "cell_type": "code",
   "execution_count": 216,
   "id": "6b7a87fb-9be4-46ee-bcc1-10cb0a6c6bbb",
   "metadata": {},
   "outputs": [],
   "source": [
    "df.to_csv(r'C:\\Users\\User.SHAWONALAM\\OneDrive\\Documents\\Web scrapping using pandas, python\\largest companies in USA by revenue.csv', index=False)"
   ]
  }
 ],
 "metadata": {
  "kernelspec": {
   "display_name": "Python 3 (ipykernel)",
   "language": "python",
   "name": "python3"
  },
  "language_info": {
   "codemirror_mode": {
    "name": "ipython",
    "version": 3
   },
   "file_extension": ".py",
   "mimetype": "text/x-python",
   "name": "python",
   "nbconvert_exporter": "python",
   "pygments_lexer": "ipython3",
   "version": "3.12.4"
  }
 },
 "nbformat": 4,
 "nbformat_minor": 5
}
